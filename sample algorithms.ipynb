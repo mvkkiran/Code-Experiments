{
 "cells": [
  {
   "cell_type": "markdown",
   "metadata": {},
   "source": [
    "# Finding prime numbers between a range."
   ]
  },
  {
   "cell_type": "markdown",
   "metadata": {},
   "source": [
    "## running the loop from 0 to n"
   ]
  },
  {
   "cell_type": "code",
   "execution_count": 1,
   "metadata": {},
   "outputs": [
    {
     "name": "stdout",
     "output_type": "stream",
     "text": [
      "Total prime numbers in range : 9592\n",
      "Time required : 27.33010697364807\n"
     ]
    }
   ],
   "source": [
    "import time \n",
    "def is_prime(n): \n",
    "    if n <= 1: \n",
    "        return False\n",
    "    for i in range(2,n): \n",
    "        if n % i == 0: \n",
    "            return False\n",
    "    return True\n",
    "  \n",
    "# Driver function \n",
    "t0 = time.time() \n",
    "c = 0 #for counting \n",
    "  \n",
    "for n in range(1,100000): \n",
    "    x = is_prime(n) \n",
    "    c += x \n",
    "print(\"Total prime numbers in range :\", c) \n",
    "  \n",
    "t1 = time.time() \n",
    "print(\"Time required :\", t1 - t0)"
   ]
  },
  {
   "cell_type": "markdown",
   "metadata": {},
   "source": [
    "## running the loop from 0 to n/2"
   ]
  },
  {
   "cell_type": "code",
   "execution_count": 5,
   "metadata": {},
   "outputs": [
    {
     "name": "stdout",
     "output_type": "stream",
     "text": [
      "Total prime numbers in range : 9593\n",
      "Time required : 13.651971101760864\n"
     ]
    }
   ],
   "source": [
    "import time \n",
    "def is_prime(n): \n",
    "    if n <= 1: \n",
    "        return False\n",
    "    for i in range(2,n//2): \n",
    "        if n % i == 0: \n",
    "            return False\n",
    "    return True\n",
    "  \n",
    "# Driver function \n",
    "t0 = time.time() \n",
    "c = 0 #for counting \n",
    "  \n",
    "for n in range(1,100000): \n",
    "    x = is_prime(n) \n",
    "    c += x \n",
    "print(\"Total prime numbers in range :\", c) \n",
    "  \n",
    "t1 = time.time() \n",
    "print(\"Time required :\", t1 - t0)"
   ]
  },
  {
   "cell_type": "markdown",
   "metadata": {},
   "source": [
    "## running the loop from 0 to Sqrt(n)"
   ]
  },
  {
   "cell_type": "code",
   "execution_count": 3,
   "metadata": {},
   "outputs": [
    {
     "name": "stdout",
     "output_type": "stream",
     "text": [
      "Total prime numbers in range : 9592\n",
      "Time required : 0.18381094932556152\n"
     ]
    }
   ],
   "source": [
    "import time \n",
    "import math\n",
    "def is_prime(n): \n",
    "    if n <= 1: \n",
    "        return False\n",
    "    max_div = math.floor(math.sqrt(n)) \n",
    "    for i in range(2, 1 + max_div): \n",
    "        if n % i == 0: \n",
    "            return False\n",
    "    return True\n",
    "  \n",
    "# Driver function \n",
    "t0 = time.time() \n",
    "c = 0 #for counting \n",
    "  \n",
    "for n in range(1,100000): \n",
    "    x = is_prime(n) \n",
    "    c += x \n",
    "print(\"Total prime numbers in range :\", c) \n",
    "  \n",
    "t1 = time.time() \n",
    "print(\"Time required :\", t1 - t0)"
   ]
  },
  {
   "cell_type": "code",
   "execution_count": null,
   "metadata": {},
   "outputs": [],
   "source": []
  }
 ],
 "metadata": {
  "kernelspec": {
   "display_name": "Python 3",
   "language": "python",
   "name": "python3"
  },
  "language_info": {
   "codemirror_mode": {
    "name": "ipython",
    "version": 3
   },
   "file_extension": ".py",
   "mimetype": "text/x-python",
   "name": "python",
   "nbconvert_exporter": "python",
   "pygments_lexer": "ipython3",
   "version": "3.6.4"
  }
 },
 "nbformat": 4,
 "nbformat_minor": 2
}
